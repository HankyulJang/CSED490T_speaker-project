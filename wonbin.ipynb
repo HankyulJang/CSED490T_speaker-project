{
 "cells": [
  {
   "cell_type": "code",
   "execution_count": 49,
   "metadata": {},
   "outputs": [],
   "source": [
    "import scipy.io.wavfile\n",
    "import os\n",
    "import glob\n",
    "import numpy as np\n",
    "import scipy.signal"
   ]
  },
  {
   "cell_type": "code",
   "execution_count": 71,
   "metadata": {},
   "outputs": [],
   "source": [
    "# insert your directory of dataset\n",
    "path = \"data/ESC50/audio\"\n",
    "files = os.listdir(path)\n",
    "\n",
    "# get X, Y\n",
    "X = np.empty((2000, 1, 24000))\n",
    "Y = np.empty((2000, 1))\n",
    "i = 0\n",
    "for filename in glob.glob(os.path.join(path, '*.wav')):\n",
    "    target = filename.split('-')[-1].split('.')[0]\n",
    "    Y[i] = int(target)\n",
    "    samplerate, data = scipy.io.wavfile.read(filename)\n",
    "    data = scipy.signal.resample(data, 24000)\n",
    "    data = data.astype(float)\n",
    "    data = data / (2.0**(16-1) + 1)\n",
    "    X[i] = data.reshape((1,24000))\n",
    "    i += 1"
   ]
  },
  {
   "cell_type": "code",
   "execution_count": 72,
   "metadata": {
    "scrolled": true
   },
   "outputs": [
    {
     "name": "stdout",
     "output_type": "stream",
     "text": [
      "(2000, 1, 24000)\n",
      "(2000, 1)\n",
      "[[-0.03106205  0.02223202  0.01771582 ...  0.0079605  -0.00331851\n",
      "   0.01470729]]\n",
      "[14.]\n"
     ]
    }
   ],
   "source": [
    "print(X.shape) \n",
    "print(Y.shape)\n",
    "print(X[1])\n",
    "print(Y[1])"
   ]
  },
  {
   "cell_type": "code",
   "execution_count": 56,
   "metadata": {},
   "outputs": [
    {
     "data": {
      "text/plain": [
       "-0.031062049746474536"
      ]
     },
     "execution_count": 56,
     "metadata": {},
     "output_type": "execute_result"
    }
   ],
   "source": [
    "X[1][0]"
   ]
  },
  {
   "cell_type": "code",
   "execution_count": null,
   "metadata": {},
   "outputs": [],
   "source": []
  }
 ],
 "metadata": {
  "kernelspec": {
   "display_name": "Python 3",
   "language": "python",
   "name": "python3"
  },
  "language_info": {
   "codemirror_mode": {
    "name": "ipython",
    "version": 3
   },
   "file_extension": ".py",
   "mimetype": "text/x-python",
   "name": "python",
   "nbconvert_exporter": "python",
   "pygments_lexer": "ipython3",
   "version": "3.6.5"
  }
 },
 "nbformat": 4,
 "nbformat_minor": 2
}
